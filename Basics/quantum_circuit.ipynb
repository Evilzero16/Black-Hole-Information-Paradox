{
 "cells": [
  {
   "metadata": {},
   "cell_type": "markdown",
   "source": "",
   "id": "bf019c718533dbc1"
  },
  {
   "metadata": {
    "ExecuteTime": {
     "end_time": "2025-03-08T15:43:23.965165Z",
     "start_time": "2025-03-08T15:43:23.889868Z"
    }
   },
   "cell_type": "code",
   "source": [
    "from qiskit import QuantumCircuit, QuantumRegister, ClassicalRegister\n",
    "from qiskit.quantum_info import Operator\n",
    "from qiskit_aer import Aer\n",
    "from qiskit.visualization import plot_histogram, circuit_drawer\n",
    "import matplotlib.pyplot as plt\n",
    "from qiskit import transpile, assemble"
   ],
   "id": "db719368b7d36453",
   "outputs": [],
   "execution_count": 16
  },
  {
   "metadata": {
    "ExecuteTime": {
     "end_time": "2025-03-08T15:43:25.375510Z",
     "start_time": "2025-03-08T15:43:25.372579Z"
    }
   },
   "cell_type": "code",
   "source": "",
   "id": "17236c5e56ea2354",
   "outputs": [],
   "execution_count": null
  },
  {
   "metadata": {
    "ExecuteTime": {
     "end_time": "2025-03-08T15:43:25.851587Z",
     "start_time": "2025-03-08T15:43:25.848680Z"
    }
   },
   "cell_type": "code",
   "source": [
    "from qiskit import __version__\n",
    "print(__version__)"
   ],
   "id": "7d897d7d571684a7",
   "outputs": [
    {
     "name": "stdout",
     "output_type": "stream",
     "text": [
      "1.4.1\n"
     ]
    }
   ],
   "execution_count": 17
  },
  {
   "metadata": {
    "ExecuteTime": {
     "end_time": "2025-03-08T15:43:26.780443Z",
     "start_time": "2025-03-08T15:43:26.777386Z"
    }
   },
   "cell_type": "code",
   "source": "",
   "id": "be3e88fd152e3f31",
   "outputs": [],
   "execution_count": null
  },
  {
   "metadata": {
    "ExecuteTime": {
     "end_time": "2025-03-08T15:43:27.280390Z",
     "start_time": "2025-03-08T15:43:27.230633Z"
    }
   },
   "cell_type": "code",
   "source": [
    "X = QuantumRegister(1, 'X')\n",
    "c = ClassicalRegister(1, 'c')\n",
    "qc = QuantumCircuit(X, c)\n",
    "qc.h(X)\n",
    "qc.s(X)"
   ],
   "id": "4bba2cdd8e5fa1d6",
   "outputs": [
    {
     "data": {
      "text/plain": [
       "<qiskit.circuit.instructionset.InstructionSet at 0x1386e6800>"
      ]
     },
     "execution_count": 18,
     "metadata": {},
     "output_type": "execute_result"
    }
   ],
   "execution_count": 18
  },
  {
   "metadata": {
    "ExecuteTime": {
     "end_time": "2025-03-08T04:34:12.167206Z",
     "start_time": "2025-03-08T04:34:12.164687Z"
    }
   },
   "cell_type": "code",
   "source": "",
   "id": "e7ac3447cbd720f8",
   "outputs": [],
   "execution_count": null
  },
  {
   "metadata": {
    "ExecuteTime": {
     "end_time": "2025-03-08T15:43:30.923368Z",
     "start_time": "2025-03-08T15:43:30.784597Z"
    }
   },
   "cell_type": "code",
   "source": [
    "qc.measure(X,c)\n",
    "simulator = Aer.get_backend('qasm_simulator')\n",
    "\n",
    "# Execute the circuit\n",
    "compiled_circuit = transpile(qc, simulator)\n",
    "\n",
    "result = simulator.run(compiled_circuit).result()"
   ],
   "id": "f9a7c9e17f57dbe9",
   "outputs": [],
   "execution_count": 19
  },
  {
   "metadata": {
    "ExecuteTime": {
     "end_time": "2025-03-08T04:34:14.214953Z",
     "start_time": "2025-03-08T04:34:14.141123Z"
    }
   },
   "cell_type": "code",
   "source": [
    "# Get and print measurement results\n",
    "counts = result.get_counts()\n",
    "print(counts)\n",
    "\n",
    "display(qc.draw(output=\"mpl\"))\n",
    "\n",
    "display(plot_histogram(counts))\n"
   ],
   "id": "c27e125c0591dc19",
   "outputs": [
    {
     "name": "stdout",
     "output_type": "stream",
     "text": [
      "{'0': 483, '1': 541}\n"
     ]
    },
    {
     "data": {
      "text/plain": [
       "<Figure size 354.271x200.667 with 1 Axes>"
      ],
      "image/png": "[encoded data removed]"
     },
     "metadata": {},
     "output_type": "display_data"
    },
    {
     "data": {
      "text/plain": [
       "<Figure size 640x480 with 1 Axes>"
      ],
      "image/png": "[encoded data removed]"
     },
     "metadata": {},
     "output_type": "display_data"
    }
   ],
   "execution_count": 15
  },
  {
   "metadata": {},
   "cell_type": "code",
   "outputs": [],
   "execution_count": null,
   "source": "",
   "id": "6cf4691bcaa358eb"
  },
  {
   "metadata": {},
   "cell_type": "code",
   "outputs": [],
   "execution_count": null,
   "source": "",
   "id": "561c5a777f405fa7"
  },
  {
   "metadata": {},
   "cell_type": "code",
   "outputs": [],
   "execution_count": null,
   "source": "",
   "id": "634b659a1e1f610"
  },
  {
   "metadata": {},
   "cell_type": "code",
   "outputs": [],
   "execution_count": null,
   "source": "",
   "id": "8bb803f618587365"
  },
  {
   "metadata": {},
   "cell_type": "code",
   "outputs": [],
   "execution_count": null,
   "source": "",
   "id": "6ef636482d0c9828"
  },
  {
   "metadata": {},
   "cell_type": "code",
   "outputs": [],
   "execution_count": null,
   "source": "",
   "id": "88a75a2522b699c2"
  },
  {
   "metadata": {},
   "cell_type": "code",
   "outputs": [],
   "execution_count": null,
   "source": "",
   "id": "6cdb08824bc0aec3"
  },
  {
   "metadata": {},
   "cell_type": "code",
   "outputs": [],
   "execution_count": null,
   "source": "",
   "id": "35edf30abb43cff8"
  },
  {
   "metadata": {},
   "cell_type": "code",
   "outputs": [],
   "execution_count": null,
   "source": "",
   "id": "85222ddd5d7f8f98"
  },
  {
   "metadata": {},
   "cell_type": "code",
   "outputs": [],
   "execution_count": null,
   "source": "",
   "id": "b9149518eaa6889c"
  }
 ],
 "metadata": {
  "kernelspec": {
   "display_name": "Python 3",
   "language": "python",
   "name": "python3"
  },
  "language_info": {
   "codemirror_mode": {
    "name": "ipython",
    "version": 2
   },
   "file_extension": ".py",
   "mimetype": "text/x-python",
   "name": "python",
   "nbconvert_exporter": "python",
   "pygments_lexer": "ipython2",
   "version": "2.7.6"
  }
 },
 "nbformat": 4,
 "nbformat_minor": 5
}
